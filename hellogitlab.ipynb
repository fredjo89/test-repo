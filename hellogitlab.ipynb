{
 "cells": [
  {
   "cell_type": "code",
   "execution_count": 1,
   "id": "eeccdc36-57ae-498a-a81e-327d883b02c1",
   "metadata": {},
   "outputs": [
    {
     "name": "stdout",
     "output_type": "stream",
     "text": [
      "Hello GitLab!\n"
     ]
    }
   ],
   "source": [
    "print(\"Hello GitLab!\")"
   ]
  },
  {
   "cell_type": "code",
   "execution_count": null,
   "id": "dc5b1c42-b9d8-434d-860a-6feb42678d01",
   "metadata": {},
   "outputs": [],
   "source": []
  },
  {
   "cell_type": "code",
   "execution_count": 2,
   "id": "907ca706-915d-498d-a30e-cfe0e5a376f5",
   "metadata": {},
   "outputs": [],
   "source": [
    "x = 1"
   ]
  },
  {
   "cell_type": "code",
   "execution_count": 3,
   "id": "076350f5-ce85-43ad-a0cf-c3f5beae8d26",
   "metadata": {},
   "outputs": [
    {
     "name": "stdout",
     "output_type": "stream",
     "text": [
      "Hello once more, GitLab\n"
     ]
    }
   ],
   "source": [
    "print(\"Hello once more, GitLab\")"
   ]
  },
  {
   "cell_type": "code",
   "execution_count": null,
   "id": "de513377-3f2e-41e6-8229-523c0dc6f098",
   "metadata": {},
   "outputs": [],
   "source": []
  }
 ],
 "metadata": {
  "kernelspec": {
   "display_name": "my_env",
   "language": "python",
   "name": "my_env"
  },
  "language_info": {
   "codemirror_mode": {
    "name": "ipython",
    "version": 3
   },
   "file_extension": ".py",
   "mimetype": "text/x-python",
   "name": "python",
   "nbconvert_exporter": "python",
   "pygments_lexer": "ipython3",
   "version": "3.9.16"
  }
 },
 "nbformat": 4,
 "nbformat_minor": 5
}
