{
 "cells": [
  {
   "cell_type": "markdown",
   "id": "8a5a033d-5a2c-43be-82bb-0555646fc2c8",
   "metadata": {},
   "source": [
    "The method `globals()` returns all global variales in the program"
   ]
  },
  {
   "cell_type": "code",
   "execution_count": 1,
   "id": "cb76b542-6d13-456a-8f37-7eba3b2b4a81",
   "metadata": {},
   "outputs": [
    {
     "data": {
      "text/plain": [
       "{'__name__': '__main__',\n",
       " '__doc__': 'Automatically created module for IPython interactive environment',\n",
       " '__package__': None,\n",
       " '__loader__': None,\n",
       " '__spec__': None,\n",
       " '__builtin__': <module 'builtins' (built-in)>,\n",
       " '__builtins__': <module 'builtins' (built-in)>,\n",
       " '_ih': ['', 'globals()'],\n",
       " '_oh': {},\n",
       " '_dh': [PosixPath('/Users/fredrikjohannessen/Desktop/python')],\n",
       " 'In': ['', 'globals()'],\n",
       " 'Out': {},\n",
       " 'get_ipython': <bound method InteractiveShell.get_ipython of <ipykernel.zmqshell.ZMQInteractiveShell object at 0x7ff6f88314f0>>,\n",
       " 'exit': <IPython.core.autocall.ZMQExitAutocall at 0x7ff6f8831dc0>,\n",
       " 'quit': <IPython.core.autocall.ZMQExitAutocall at 0x7ff6f8831dc0>,\n",
       " 'open': <function io.open(file, mode='r', buffering=-1, encoding=None, errors=None, newline=None, closefd=True, opener=None)>,\n",
       " '_': '',\n",
       " '__': '',\n",
       " '___': '',\n",
       " '_i': '',\n",
       " '_ii': '',\n",
       " '_iii': '',\n",
       " '_i1': 'globals()'}"
      ]
     },
     "execution_count": 1,
     "metadata": {},
     "output_type": "execute_result"
    }
   ],
   "source": [
    "globals()"
   ]
  },
  {
   "cell_type": "markdown",
   "id": "e4889272-9a3c-471c-bbdc-2895c7434ec0",
   "metadata": {},
   "source": [
    "The method `locals()` returns all local variables in the program"
   ]
  },
  {
   "cell_type": "code",
   "execution_count": 9,
   "id": "f55e4a0f-3620-49fa-9342-b5dd2fdd28e6",
   "metadata": {},
   "outputs": [
    {
     "name": "stdout",
     "output_type": "stream",
     "text": [
      "{'x': 1, 'y': 2}\n"
     ]
    }
   ],
   "source": [
    "def f():\n",
    "    x = 1\n",
    "    y = 2\n",
    "    print(locals())\n",
    "\n",
    "f()"
   ]
  },
  {
   "cell_type": "markdown",
   "id": "c3fe29f8-d911-4c3b-a771-bd906dddbac4",
   "metadata": {},
   "source": [
    "The `repr()` function returns a printable representation of the given object."
   ]
  },
  {
   "cell_type": "code",
   "execution_count": 4,
   "id": "152074db-f9d1-42f6-87d5-a47981018cd7",
   "metadata": {},
   "outputs": [
    {
     "data": {
      "text/plain": [
       "\"{'hello': 'bye'}\""
      ]
     },
     "execution_count": 4,
     "metadata": {},
     "output_type": "execute_result"
    }
   ],
   "source": [
    "var = {'hello': 'bye'}\n",
    "repr(var)"
   ]
  },
  {
   "cell_type": "code",
   "execution_count": null,
   "id": "1dacd91e-aea9-458d-963f-c93bbc12527e",
   "metadata": {},
   "outputs": [],
   "source": []
  }
 ],
 "metadata": {
  "kernelspec": {
   "display_name": "my_env",
   "language": "python",
   "name": "my_env"
  },
  "language_info": {
   "codemirror_mode": {
    "name": "ipython",
    "version": 3
   },
   "file_extension": ".py",
   "mimetype": "text/x-python",
   "name": "python",
   "nbconvert_exporter": "python",
   "pygments_lexer": "ipython3",
   "version": "3.9.16"
  }
 },
 "nbformat": 4,
 "nbformat_minor": 5
}
